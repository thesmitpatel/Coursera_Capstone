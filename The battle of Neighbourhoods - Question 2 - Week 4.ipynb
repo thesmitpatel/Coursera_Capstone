{
    "nbformat_minor": 1, 
    "cells": [
        {
            "source": "# Capstone Project - The Battle of Neighbourhoods", 
            "cell_type": "markdown", 
            "metadata": {
                "collapsed": true
            }
        }, 
        {
            "source": "## Introduction / Business Problem", 
            "cell_type": "markdown", 
            "metadata": {}
        }, 
        {
            "source": "### \"Which locality of all the cities in United States would be the best place to start a Gaming Arcade?\"", 
            "cell_type": "markdown", 
            "metadata": {}
        }, 
        {
            "source": "My boss Vasanth is interested in starting a gaming arcade in the best locality of all the cities in United states. He defines a best locatlity based on the following constraints, \n\n* Population density of a locality \n* Per Capital income\n* Population of each location\n* Venues in each locality \n\nThe category of the venues that he's interested in are, \n\n* Arts and Entertainment \n* Shops & Service\n* College and University\n* Event\n* Food\n* Nightife Spot\n* Outdoors & Recreation\n* Professional & Other places\n* Residence\n* Travel & Transport", 
            "cell_type": "markdown", 
            "metadata": {}
        }, 
        {
            "source": "## Data", 
            "cell_type": "markdown", 
            "metadata": {}
        }, 
        {
            "source": "### To help Vasanth set up a gaming arcade, we will get the data from the below sources", 
            "cell_type": "markdown", 
            "metadata": {}
        }, 
        {
            "source": "* List of all the cities in United States with population density and coordinates: https://en.wikipedia.org/wiki/List_of_United_States_cities_by_population\n* List of all the cities in United States with Per Capita Income : https://en.wikipedia.org/wiki/List_of_United_States_counties_by_per_capita_income\n\n\nUsing Four Square API to get the following\n\n* List of all venues in each city \n* List of all venues in each locality in the selected city", 
            "cell_type": "markdown", 
            "metadata": {}
        }, 
        {
            "source": "Using the above data we will first select best city to proceed with based on the values like Population density, per capita income of the state, number of venues (as we are giving weights to each venue based on its category). \n\nOnce we select a city, we then go hunting for Localities. Again, we do it using the same approach i.e. based on the scores of venues in each locality. Once ", 
            "cell_type": "markdown", 
            "metadata": {}
        }
    ], 
    "metadata": {
        "kernelspec": {
            "display_name": "Python 3.5", 
            "name": "python3", 
            "language": "python"
        }, 
        "language_info": {
            "mimetype": "text/x-python", 
            "nbconvert_exporter": "python", 
            "version": "3.5.5", 
            "name": "python", 
            "file_extension": ".py", 
            "pygments_lexer": "ipython3", 
            "codemirror_mode": {
                "version": 3, 
                "name": "ipython"
            }
        }
    }, 
    "nbformat": 4
}