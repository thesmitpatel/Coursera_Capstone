{
    "nbformat_minor": 1, 
    "cells": [
        {
            "source": "# Capstone Project - The Battle of Neighbourhoods", 
            "cell_type": "markdown", 
            "metadata": {
                "collapsed": true
            }
        }, 
        {
            "source": "## Introduction / Business Problem", 
            "cell_type": "markdown", 
            "metadata": {}
        }, 
        {
            "source": "### \"Which locality of all the cities in United States would be the best place to start a Gaming Arcade?\"", 
            "cell_type": "markdown", 
            "metadata": {}
        }, 
        {
            "source": "My boss Vasanth is interested in starting a gaming arcade in the best locality of all the cities in United states. He defines a best locatlity based on the following constraints, \n\n* Population density of a locality \n* Per Capital income\n* Population of each location\n* Venues in each locality \n\nThe category of the venues that he's interested in are, \n\n* Arts and Entertainment \n* Shops & Service\n* College and University\n* Event\n* Food\n* Nightife Spot\n* Outdoors & Recreation\n* Professional & Other places\n* Residence\n* Travel & Transport", 
            "cell_type": "markdown", 
            "metadata": {}
        }
    ], 
    "metadata": {
        "kernelspec": {
            "display_name": "Python 3.5", 
            "name": "python3", 
            "language": "python"
        }, 
        "language_info": {
            "mimetype": "text/x-python", 
            "nbconvert_exporter": "python", 
            "version": "3.5.5", 
            "name": "python", 
            "file_extension": ".py", 
            "pygments_lexer": "ipython3", 
            "codemirror_mode": {
                "version": 3, 
                "name": "ipython"
            }
        }
    }, 
    "nbformat": 4
}